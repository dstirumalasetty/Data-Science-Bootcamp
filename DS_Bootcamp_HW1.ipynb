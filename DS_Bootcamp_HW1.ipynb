{
  "nbformat": 4,
  "nbformat_minor": 0,
  "metadata": {
    "colab": {
      "provenance": []
    },
    "kernelspec": {
      "name": "python3",
      "display_name": "Python 3"
    },
    "language_info": {
      "name": "python"
    }
  },
  "cells": [
    {
      "cell_type": "markdown",
      "source": [
        "## Data Science Bootcamp - Assignment 1"
      ],
      "metadata": {
        "id": "y8T1yoMFbcSf"
      }
    },
    {
      "cell_type": "markdown",
      "source": [
        "Name: **Divya Sai Tirumalasetty**\n",
        "\n",
        "Net ID: **dt2482**"
      ],
      "metadata": {
        "id": "MT3_ZAr5mr21"
      }
    },
    {
      "cell_type": "markdown",
      "source": [
        "#### 1. Display Fibonacci Series upto 10 terms"
      ],
      "metadata": {
        "id": "FoXFddcBmwsq"
      }
    },
    {
      "cell_type": "code",
      "source": [
        "#  Function to generate the Fibonacci series\n",
        "def fibonacci(n):\n",
        "    fib_series = []\n",
        "    a, b = 0, 1\n",
        "    for i in range(n):\n",
        "        fib_series.append(a)\n",
        "        a, b = b, a + b\n",
        "    return fib_series\n",
        "\n",
        "# Number of terms to generate\n",
        "n = 10\n",
        "\n",
        "# Display the Fibonacci series\n",
        "fib_series = fibonacci(n)\n",
        "print(\"Fibonacci Series up to\", n, \"terms:\")\n",
        "print(fib_series)\n"
      ],
      "metadata": {
        "colab": {
          "base_uri": "https://localhost:8080/"
        },
        "id": "1v6dRQU6mspu",
        "outputId": "3e57c928-5936-494a-90e8-8c1734c05096"
      },
      "execution_count": 2,
      "outputs": [
        {
          "output_type": "stream",
          "name": "stdout",
          "text": [
            "Fibonacci Series up to 10 terms:\n",
            "[0, 1, 1, 2, 3, 5, 8, 13, 21, 34]\n"
          ]
        }
      ]
    },
    {
      "cell_type": "markdown",
      "source": [
        "#### 2. Display numbers at the odd indices of a list"
      ],
      "metadata": {
        "id": "FIhbvMIdneIR"
      }
    },
    {
      "cell_type": "code",
      "source": [
        "# Function to display numbers at odd indices of a list\n",
        "def display_odd_indices(numbers):\n",
        "    odd_indices = []\n",
        "    for i in range(1, len(numbers), 2):\n",
        "        odd_indices.append(numbers[i])\n",
        "    return odd_indices\n",
        "\n",
        "# Example list\n",
        "my_list = [10, 20, 30, 40, 50, 60, 70]\n",
        "\n",
        "# Display numbers at odd indices\n",
        "odd_indices_list = display_odd_indices(my_list)\n",
        "print(\"Numbers at odd indices:\", odd_indices_list)\n"
      ],
      "metadata": {
        "colab": {
          "base_uri": "https://localhost:8080/"
        },
        "id": "J9IILdMwndGu",
        "outputId": "94d626a3-262a-4101-9659-20eaca1f116c"
      },
      "execution_count": 3,
      "outputs": [
        {
          "output_type": "stream",
          "name": "stdout",
          "text": [
            "Numbers at odd indices: [20, 40, 60]\n"
          ]
        }
      ]
    },
    {
      "cell_type": "markdown",
      "source": [
        "#### 3. Print a list in reverse order"
      ],
      "metadata": {
        "id": "-X9vZcLSnctg"
      }
    },
    {
      "cell_type": "code",
      "source": [
        "# Function to print a list in reverse order\n",
        "def print_reverse_list(lst):\n",
        "    reversed_list = lst[::-1]\n",
        "    for item in reversed_list:\n",
        "        print(item)\n",
        "\n",
        "# Example list\n",
        "my_list = [10, 20, 30, 40, 50]\n",
        "\n",
        "# Print the list in reverse order\n",
        "print(\"List in reverse order:\")\n",
        "print_reverse_list(my_list)\n"
      ],
      "metadata": {
        "colab": {
          "base_uri": "https://localhost:8080/"
        },
        "id": "abD7DZ5noOKL",
        "outputId": "e5716ab5-f3fc-4bfd-9b2d-603d9df686f8"
      },
      "execution_count": 4,
      "outputs": [
        {
          "output_type": "stream",
          "name": "stdout",
          "text": [
            "List in reverse order:\n",
            "50\n",
            "40\n",
            "30\n",
            "20\n",
            "10\n"
          ]
        }
      ]
    },
    {
      "cell_type": "markdown",
      "source": [
        "#### 4. Your task is to count the number of different words in this text"
      ],
      "metadata": {
        "id": "7E6tT_EPVD_s"
      }
    },
    {
      "cell_type": "code",
      "source": [
        "# Input text\n",
        "string = \"\"\"\n",
        "ChatGPT has created this text to provide tips on creating interesting paragraphs.\n",
        "First, start with a clear topic sentence that introduces the main idea.\n",
        "Then, support the topic sentence with specific details, examples, and evidence.\n",
        "Vary the sentence length and structure to keep the reader engaged.\n",
        "Finally, end with a strong concluding sentence that summarizes the main points.\n",
        "Remember, practice makes perfect!\n",
        "\"\"\"\n",
        "\n",
        "# Split the text into words by whitespace and punctuation\n",
        "words = string.split()\n",
        "\n",
        "# Remove punctuation and convert to lowercase for accurate word counting\n",
        "words = [word.strip(\".,!?'\\\"\") for word in words]\n",
        "words = [word.lower() for word in words]\n",
        "\n",
        "# Count the number of unique words\n",
        "unique_word_count = len(set(words))\n",
        "\n",
        "# Print the result\n",
        "print(\"Number of different words:\", unique_word_count)\n"
      ],
      "metadata": {
        "colab": {
          "base_uri": "https://localhost:8080/"
        },
        "id": "VqM4kIQnXgXS",
        "outputId": "5dcba749-1aa2-4804-93a5-dbab28949737"
      },
      "execution_count": 14,
      "outputs": [
        {
          "output_type": "stream",
          "name": "stdout",
          "text": [
            "Number of different words: 47\n"
          ]
        }
      ]
    },
    {
      "cell_type": "markdown",
      "source": [
        "#### 5. Write a function that takes a word as an argument and returns the number of vowels in the word"
      ],
      "metadata": {
        "id": "w5T1yZh_ZytS"
      }
    },
    {
      "cell_type": "code",
      "source": [
        "def count_vowels(word):\n",
        "    # Define a set of vowels for easy checking\n",
        "    vowels = set(\"aeiouAEIOU\")\n",
        "\n",
        "    # Initialize a variable to count the vowels\n",
        "    vowel_count = 0\n",
        "\n",
        "    # Iterate through each character in the word\n",
        "    for char in word:\n",
        "        if char in vowels:\n",
        "            vowel_count += 1\n",
        "\n",
        "    return vowel_count\n",
        "\n",
        "# Example usage:\n",
        "word = \"Hello\"\n",
        "result = count_vowels(word)\n",
        "print(\"Number of vowels in '{}': {}\".format(word, result))\n"
      ],
      "metadata": {
        "colab": {
          "base_uri": "https://localhost:8080/"
        },
        "id": "BSGWk3EnZzNx",
        "outputId": "73485015-34e2-48d7-be7b-b8c7efb2069b"
      },
      "execution_count": 15,
      "outputs": [
        {
          "output_type": "stream",
          "name": "stdout",
          "text": [
            "Number of vowels in 'Hello': 2\n"
          ]
        }
      ]
    },
    {
      "cell_type": "markdown",
      "source": [
        "#### 6. Iterate through the following list of animals and print each one in all caps.\n",
        "\n",
        "  animals=['tiger', 'elephant', 'monkey', 'zebra', 'panther']"
      ],
      "metadata": {
        "id": "M7yKwuHGaGzE"
      }
    },
    {
      "cell_type": "code",
      "source": [
        "animals = ['tiger', 'elephant', 'monkey', 'zebra', 'panther']\n",
        "\n",
        "for animal in animals:\n",
        "    print(animal.upper())\n"
      ],
      "metadata": {
        "colab": {
          "base_uri": "https://localhost:8080/"
        },
        "id": "pmajUSmTaD7u",
        "outputId": "3dfb7191-1d33-460e-e23e-20c98640b871"
      },
      "execution_count": 16,
      "outputs": [
        {
          "output_type": "stream",
          "name": "stdout",
          "text": [
            "TIGER\n",
            "ELEPHANT\n",
            "MONKEY\n",
            "ZEBRA\n",
            "PANTHER\n"
          ]
        }
      ]
    },
    {
      "cell_type": "markdown",
      "source": [
        "#### 7. Iterate from 1 to 15, printing whether the number is odd or even\n"
      ],
      "metadata": {
        "id": "cE4c2LPZaZSK"
      }
    },
    {
      "cell_type": "code",
      "source": [
        "for number in range(1, 16):\n",
        "    if number % 2 == 0:\n",
        "        print(f\"{number} is even\")\n",
        "    else:\n",
        "        print(f\"{number} is odd\")\n"
      ],
      "metadata": {
        "colab": {
          "base_uri": "https://localhost:8080/"
        },
        "id": "fWExh3nvaedk",
        "outputId": "4ce4e73f-847c-4701-e434-7eb2fe499039"
      },
      "execution_count": 17,
      "outputs": [
        {
          "output_type": "stream",
          "name": "stdout",
          "text": [
            "1 is odd\n",
            "2 is even\n",
            "3 is odd\n",
            "4 is even\n",
            "5 is odd\n",
            "6 is even\n",
            "7 is odd\n",
            "8 is even\n",
            "9 is odd\n",
            "10 is even\n",
            "11 is odd\n",
            "12 is even\n",
            "13 is odd\n",
            "14 is even\n",
            "15 is odd\n"
          ]
        }
      ]
    },
    {
      "cell_type": "markdown",
      "source": [
        "#### 8. Take two integers as input from user and return the sum"
      ],
      "metadata": {
        "id": "6C99iFCJbEkm"
      }
    },
    {
      "cell_type": "code",
      "source": [
        "# Get input from the user for the first integer\n",
        "input_str1 = input(\"Enter the first integer: \")\n",
        "\n",
        "# Convert the input string to an integer\n",
        "try:\n",
        "    num1 = int(input_str1)\n",
        "except ValueError:\n",
        "    print(\"Invalid input. Please enter a valid integer.\")\n",
        "    exit()\n",
        "\n",
        "# Get input from the user for the second integer\n",
        "input_str2 = input(\"Enter the second integer: \")\n",
        "\n",
        "# Convert the input string to an integer\n",
        "try:\n",
        "    num2 = int(input_str2)\n",
        "except ValueError:\n",
        "    print(\"Invalid input. Please enter a valid integer.\")\n",
        "    exit()\n",
        "\n",
        "# Calculate the sum of the two integers\n",
        "sum_result = num1 + num2\n",
        "\n",
        "# Print the result\n",
        "print(f\"The sum of {num1} and {num2} is {sum_result}.\")\n"
      ],
      "metadata": {
        "colab": {
          "base_uri": "https://localhost:8080/"
        },
        "id": "ihxnQVBDbFDC",
        "outputId": "ba683dbb-797b-4d68-aa2b-281854f29e06"
      },
      "execution_count": 18,
      "outputs": [
        {
          "output_type": "stream",
          "name": "stdout",
          "text": [
            "Enter the first integer: 1\n",
            "Enter the second integer: 6\n",
            "The sum of 1 and 6 is 7.\n"
          ]
        }
      ]
    }
  ]
}